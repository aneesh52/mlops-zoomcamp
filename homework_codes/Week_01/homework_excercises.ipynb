{
 "cells": [
  {
   "cell_type": "code",
   "execution_count": 1,
   "id": "7bc04249-df58-44bc-8a14-05955e2d445b",
   "metadata": {},
   "outputs": [
    {
     "name": "stdout",
     "output_type": "stream",
     "text": [
      "Requirement already satisfied: pyarrow in /home/ubuntu/anaconda3/lib/python3.9/site-packages (8.0.0)\n",
      "Requirement already satisfied: numpy>=1.16.6 in /home/ubuntu/anaconda3/lib/python3.9/site-packages (from pyarrow) (1.21.5)\n"
     ]
    }
   ],
   "source": [
    "!pip install pyarrow"
   ]
  },
  {
   "cell_type": "code",
   "execution_count": 22,
   "id": "50712da5-0097-4f32-be2b-d238b702b4e9",
   "metadata": {},
   "outputs": [],
   "source": [
    "import pandas as pd\n",
    "import numpy as np\n",
    "\n",
    "import matplotlib.pyplot as plt\n",
    "import seaborn as sns\n",
    "\n",
    "from sklearn.feature_extraction import DictVectorizer\n",
    "from sklearn.linear_model import LinearRegression\n",
    "from sklearn.metrics import mean_squared_error"
   ]
  },
  {
   "cell_type": "code",
   "execution_count": 35,
   "id": "e8a62b37-f1b8-433a-be69-086f53e79e18",
   "metadata": {},
   "outputs": [],
   "source": [
    "#helper functions\n",
    "\n",
    "def preprocess_df(df, vectorizer=None):\n",
    "    df['duration'] = df.dropOff_datetime - df.pickup_datetime\n",
    "    df['duration'] = df.duration.apply(lambda x : x.total_seconds() / 60)\n",
    "    df_filtered = df[(df.duration >= 1) & (df.duration <= 60)]\n",
    "    df_filtered[['PUlocationID','DOlocationID']] = df_filtered[['PUlocationID','DOlocationID']].fillna(-1)\n",
    "    if vectorizer is not None:\n",
    "        dicts = df_filtered[['PUlocationID','DOlocationID']].to_dict(orient='records')\n",
    "        X = dv.fit_transform(dicts)\n",
    "        return df_filtered,X\n",
    "    return df_filtered,_"
   ]
  },
  {
   "cell_type": "markdown",
   "id": "f0de6387-caf5-4a56-b5c8-b04d4e06d5ba",
   "metadata": {},
   "source": [
    "Q1. Downloading the data\n",
    "\n",
    "We'll use the same [NYC taxi dataset](https://www1.nyc.gov/site/tlc/about/tlc-trip-record-data.page), but instead of \"Green Taxi Trip Records\", we'll use \"For-Hire Vehicle Trip Records\".\n",
    "\n",
    "Download the data for January and February 2021.\n",
    "\n",
    "Note that you need \"For-Hire Vehicle Trip Records\", not \"High Volume For-Hire Vehicle Trip Records\".\n",
    "\n",
    "Read the data for January. How many records are there?"
   ]
  },
  {
   "cell_type": "code",
   "execution_count": 3,
   "id": "b1f98b94-3ec8-46a0-98b0-25dddf38867a",
   "metadata": {},
   "outputs": [],
   "source": [
    "data_jan = pd.read_parquet('data/fhv_tripdata_2021-01.parquet')"
   ]
  },
  {
   "cell_type": "code",
   "execution_count": 5,
   "id": "9572ffc9-0478-4066-9fec-cc10eefd8544",
   "metadata": {},
   "outputs": [
    {
     "data": {
      "text/plain": [
       "(1154112, 7)"
      ]
     },
     "execution_count": 5,
     "metadata": {},
     "output_type": "execute_result"
    }
   ],
   "source": [
    "data_jan.shape"
   ]
  },
  {
   "cell_type": "markdown",
   "id": "5c1a1347-a726-4314-8cb9-8fc9e4003529",
   "metadata": {},
   "source": [
    "Q2. Computing duration\n",
    "\n",
    "Now let's compute the duration variable. It should contain the duration of a ride in minutes.\n",
    "\n",
    "What's the average trip duration in January?"
   ]
  },
  {
   "cell_type": "code",
   "execution_count": 6,
   "id": "dd15f86e-a9bd-470c-a042-97f85f74ade8",
   "metadata": {},
   "outputs": [
    {
     "data": {
      "text/html": [
       "<div>\n",
       "<style scoped>\n",
       "    .dataframe tbody tr th:only-of-type {\n",
       "        vertical-align: middle;\n",
       "    }\n",
       "\n",
       "    .dataframe tbody tr th {\n",
       "        vertical-align: top;\n",
       "    }\n",
       "\n",
       "    .dataframe thead th {\n",
       "        text-align: right;\n",
       "    }\n",
       "</style>\n",
       "<table border=\"1\" class=\"dataframe\">\n",
       "  <thead>\n",
       "    <tr style=\"text-align: right;\">\n",
       "      <th></th>\n",
       "      <th>dispatching_base_num</th>\n",
       "      <th>pickup_datetime</th>\n",
       "      <th>dropOff_datetime</th>\n",
       "      <th>PUlocationID</th>\n",
       "      <th>DOlocationID</th>\n",
       "      <th>SR_Flag</th>\n",
       "      <th>Affiliated_base_number</th>\n",
       "    </tr>\n",
       "  </thead>\n",
       "  <tbody>\n",
       "    <tr>\n",
       "      <th>0</th>\n",
       "      <td>B00009</td>\n",
       "      <td>2021-01-01 00:27:00</td>\n",
       "      <td>2021-01-01 00:44:00</td>\n",
       "      <td>NaN</td>\n",
       "      <td>NaN</td>\n",
       "      <td>None</td>\n",
       "      <td>B00009</td>\n",
       "    </tr>\n",
       "    <tr>\n",
       "      <th>1</th>\n",
       "      <td>B00009</td>\n",
       "      <td>2021-01-01 00:50:00</td>\n",
       "      <td>2021-01-01 01:07:00</td>\n",
       "      <td>NaN</td>\n",
       "      <td>NaN</td>\n",
       "      <td>None</td>\n",
       "      <td>B00009</td>\n",
       "    </tr>\n",
       "    <tr>\n",
       "      <th>2</th>\n",
       "      <td>B00013</td>\n",
       "      <td>2021-01-01 00:01:00</td>\n",
       "      <td>2021-01-01 01:51:00</td>\n",
       "      <td>NaN</td>\n",
       "      <td>NaN</td>\n",
       "      <td>None</td>\n",
       "      <td>B00013</td>\n",
       "    </tr>\n",
       "    <tr>\n",
       "      <th>3</th>\n",
       "      <td>B00037</td>\n",
       "      <td>2021-01-01 00:13:09</td>\n",
       "      <td>2021-01-01 00:21:26</td>\n",
       "      <td>NaN</td>\n",
       "      <td>72.0</td>\n",
       "      <td>None</td>\n",
       "      <td>B00037</td>\n",
       "    </tr>\n",
       "    <tr>\n",
       "      <th>4</th>\n",
       "      <td>B00037</td>\n",
       "      <td>2021-01-01 00:38:31</td>\n",
       "      <td>2021-01-01 00:53:44</td>\n",
       "      <td>NaN</td>\n",
       "      <td>61.0</td>\n",
       "      <td>None</td>\n",
       "      <td>B00037</td>\n",
       "    </tr>\n",
       "  </tbody>\n",
       "</table>\n",
       "</div>"
      ],
      "text/plain": [
       "  dispatching_base_num     pickup_datetime    dropOff_datetime  PUlocationID  \\\n",
       "0               B00009 2021-01-01 00:27:00 2021-01-01 00:44:00           NaN   \n",
       "1               B00009 2021-01-01 00:50:00 2021-01-01 01:07:00           NaN   \n",
       "2               B00013 2021-01-01 00:01:00 2021-01-01 01:51:00           NaN   \n",
       "3               B00037 2021-01-01 00:13:09 2021-01-01 00:21:26           NaN   \n",
       "4               B00037 2021-01-01 00:38:31 2021-01-01 00:53:44           NaN   \n",
       "\n",
       "   DOlocationID SR_Flag Affiliated_base_number  \n",
       "0           NaN    None                 B00009  \n",
       "1           NaN    None                 B00009  \n",
       "2           NaN    None                 B00013  \n",
       "3          72.0    None                 B00037  \n",
       "4          61.0    None                 B00037  "
      ]
     },
     "execution_count": 6,
     "metadata": {},
     "output_type": "execute_result"
    }
   ],
   "source": [
    "data_jan.head()"
   ]
  },
  {
   "cell_type": "code",
   "execution_count": 7,
   "id": "88b811b7-7de3-4318-be8e-2190b2919e22",
   "metadata": {},
   "outputs": [
    {
     "name": "stdout",
     "output_type": "stream",
     "text": [
      "<class 'pandas.core.frame.DataFrame'>\n",
      "RangeIndex: 1154112 entries, 0 to 1154111\n",
      "Data columns (total 7 columns):\n",
      " #   Column                  Non-Null Count    Dtype         \n",
      "---  ------                  --------------    -----         \n",
      " 0   dispatching_base_num    1154112 non-null  object        \n",
      " 1   pickup_datetime         1154112 non-null  datetime64[ns]\n",
      " 2   dropOff_datetime        1154112 non-null  datetime64[ns]\n",
      " 3   PUlocationID            195845 non-null   float64       \n",
      " 4   DOlocationID            991892 non-null   float64       \n",
      " 5   SR_Flag                 0 non-null        object        \n",
      " 6   Affiliated_base_number  1153227 non-null  object        \n",
      "dtypes: datetime64[ns](2), float64(2), object(3)\n",
      "memory usage: 61.6+ MB\n"
     ]
    }
   ],
   "source": [
    "data_jan.info()"
   ]
  },
  {
   "cell_type": "code",
   "execution_count": 4,
   "id": "388fb679-bc0f-4d88-933b-df3046ee7843",
   "metadata": {},
   "outputs": [],
   "source": [
    "data_jan['duration'] = data_jan.dropOff_datetime - data_jan.pickup_datetime\n",
    "data_jan['duration'] = data_jan.duration.apply(lambda x : x.total_seconds() / 60)"
   ]
  },
  {
   "cell_type": "code",
   "execution_count": 5,
   "id": "0be20f12-ca32-4e17-8e7a-8b2954b11886",
   "metadata": {},
   "outputs": [
    {
     "name": "stdout",
     "output_type": "stream",
     "text": [
      "Average trip duration in Jan: 19.17 minutes\n"
     ]
    }
   ],
   "source": [
    "print(f\"Average trip duration in Jan: {np.round(np.mean(data_jan.duration),2)} minutes\")"
   ]
  },
  {
   "cell_type": "markdown",
   "id": "27c13b5c-e6b3-4c8b-b160-c1da3b2ae5e2",
   "metadata": {},
   "source": [
    "<b>Data preparation</b>\n",
    "\n",
    "Check the distribution of the duration variable. There are some outliers.\n",
    "\n",
    "Let's remove them and keep only the records where the duration was between 1 and 60 minutes (inclusive).\n",
    "\n",
    "How many records did you drop?"
   ]
  },
  {
   "cell_type": "code",
   "execution_count": 9,
   "id": "afce4c59-1a4d-4713-8ce2-66ce07912dbc",
   "metadata": {},
   "outputs": [
    {
     "data": {
      "text/plain": [
       "count    1.154112e+06\n",
       "mean     1.916722e+01\n",
       "std      3.986922e+02\n",
       "min      1.666667e-02\n",
       "25%      7.766667e+00\n",
       "50%      1.340000e+01\n",
       "75%      2.228333e+01\n",
       "max      4.233710e+05\n",
       "Name: duration, dtype: float64"
      ]
     },
     "execution_count": 9,
     "metadata": {},
     "output_type": "execute_result"
    }
   ],
   "source": [
    "data_jan.duration.describe()"
   ]
  },
  {
   "cell_type": "code",
   "execution_count": 8,
   "id": "b23fbba3-57c7-4977-a9c4-b10ea079ca50",
   "metadata": {},
   "outputs": [
    {
     "data": {
      "text/plain": [
       "<AxesSubplot:xlabel='duration'>"
      ]
     },
     "execution_count": 8,
     "metadata": {},
     "output_type": "execute_result"
    },
    {
     "data": {
      "image/png": "[encoded data removed]",
      "text/plain": [
       "<Figure size 432x288 with 1 Axes>"
      ]
     },
     "metadata": {
      "needs_background": "light"
     },
     "output_type": "display_data"
    }
   ],
   "source": [
    "sns.boxplot(x=data_jan.duration)"
   ]
  },
  {
   "cell_type": "code",
   "execution_count": 6,
   "id": "6a1a2f52-6440-43a9-9efb-70849c866ca5",
   "metadata": {},
   "outputs": [],
   "source": [
    "data_jan_filtered = data_jan[(data_jan.duration >= 1) & (data_jan.duration <= 60)]"
   ]
  },
  {
   "cell_type": "code",
   "execution_count": 7,
   "id": "b00f0dc7-b796-4df4-bf16-b581d90673e3",
   "metadata": {},
   "outputs": [
    {
     "name": "stdout",
     "output_type": "stream",
     "text": [
      "No. of dropped rows: 44286\n"
     ]
    }
   ],
   "source": [
    "print(f\"No. of dropped rows: {data_jan.shape[0] - data_jan_filtered.shape[0]}\")"
   ]
  },
  {
   "cell_type": "markdown",
   "id": "8c1e913e-d7de-4e53-bc7c-d80df6b0a2b0",
   "metadata": {},
   "source": [
    "Q3. Missing values\n",
    "\n",
    "The features we'll use for our model are the pickup and dropoff location IDs.\n",
    "\n",
    "But they have a lot of missing values there. Let's replace them with \"-1\".\n",
    "\n",
    "What's the fractions of missing values for the pickup location ID? I.e. fraction of \"-1\"s after you filled the NAs."
   ]
  },
  {
   "cell_type": "code",
   "execution_count": 11,
   "id": "6910a107-297d-4bff-9c4f-896731f9ffb9",
   "metadata": {},
   "outputs": [
    {
     "name": "stdout",
     "output_type": "stream",
     "text": [
      "Percentage of NAs of pickup location ID: 0.8352732770722617\n",
      "Percentage of NAs of dropoff location ID: 0.13327044059158824\n"
     ]
    }
   ],
   "source": [
    "print(f\"Percentage of NAs of pickup location ID: {data_jan_filtered.PUlocationID.isna().sum()/data_jan_filtered.shape[0]}\")\n",
    "print(f\"Percentage of NAs of dropoff location ID: {data_jan_filtered.DOlocationID.isna().sum()/data_jan_filtered.shape[0]}\")"
   ]
  },
  {
   "cell_type": "code",
   "execution_count": 14,
   "id": "300207d5-e4ef-4785-b424-53c9d0af7ab8",
   "metadata": {},
   "outputs": [
    {
     "name": "stderr",
     "output_type": "stream",
     "text": [
      "/tmp/ipykernel_132/1257331525.py:1: SettingWithCopyWarning: \n",
      "A value is trying to be set on a copy of a slice from a DataFrame.\n",
      "Try using .loc[row_indexer,col_indexer] = value instead\n",
      "\n",
      "See the caveats in the documentation: https://pandas.pydata.org/pandas-docs/stable/user_guide/indexing.html#returning-a-view-versus-a-copy\n",
      "  data_jan_filtered[['PUlocationID','DOlocationID']] = data_jan_filtered[['PUlocationID','DOlocationID']].fillna(-1)\n"
     ]
    }
   ],
   "source": [
    "data_jan_filtered[['PUlocationID','DOlocationID']] = data_jan_filtered[['PUlocationID','DOlocationID']].fillna(-1)                   "
   ]
  },
  {
   "cell_type": "markdown",
   "id": "88713734-9eac-472d-8ec7-89eeedd62b35",
   "metadata": {},
   "source": [
    "Q4. One-hot encoding\n",
    "\n",
    "Let's apply one-hot encoding to the pickup and dropoff location IDs. We'll use only these two features for our model.\n",
    "\n",
    "    Turn the dataframe into a list of dictionaries\n",
    "    Fit a dictionary vectorizer\n",
    "    Get a feature matrix from it\n",
    "\n",
    "What's the dimensionality of this matrix? (The number of columns).\n",
    "\n",
    "    2\n",
    "    152\n",
    "    352\n",
    "    525\n",
    "    725\n"
   ]
  },
  {
   "cell_type": "code",
   "execution_count": 23,
   "id": "6f7499e6-bf05-49b7-83b9-185e9e8020c8",
   "metadata": {},
   "outputs": [],
   "source": [
    "dv = DictVectorizer()\n",
    "\n",
    "train_dicts = data_jan_filtered[['PUlocationID','DOlocationID']].to_dict(orient='records')\n",
    "X_train = dv.fit_transform(train_dicts) "
   ]
  },
  {
   "cell_type": "code",
   "execution_count": 24,
   "id": "645e2922-56fb-454b-8f31-c91bb3f9128f",
   "metadata": {},
   "outputs": [
    {
     "data": {
      "text/plain": [
       "<1109826x2 sparse matrix of type '<class 'numpy.float64'>'\n",
       "\twith 2219652 stored elements in Compressed Sparse Row format>"
      ]
     },
     "execution_count": 24,
     "metadata": {},
     "output_type": "execute_result"
    }
   ],
   "source": [
    "X_train"
   ]
  },
  {
   "cell_type": "markdown",
   "id": "542d64aa-a975-49f6-9a7a-2f39915b3334",
   "metadata": {},
   "source": [
    "Q5. Training a model\n",
    "\n",
    "Now let's use the feature matrix from the previous step to train a model.\n",
    "\n",
    "    Train a plain linear regression model with default parameters\n",
    "    Calculate the RMSE of the model on the training data\n",
    "\n",
    "What's the RMSE on train?\n",
    "\n",
    "    5.52\n",
    "    10.52\n",
    "    15.52\n",
    "    20.52\n"
   ]
  },
  {
   "cell_type": "code",
   "execution_count": 26,
   "id": "dc582f62-15d3-48a1-95cd-71b5ba9e38a5",
   "metadata": {},
   "outputs": [
    {
     "data": {
      "text/plain": [
       "11.415432830521663"
      ]
     },
     "execution_count": 26,
     "metadata": {},
     "output_type": "execute_result"
    }
   ],
   "source": [
    "target = 'duration'\n",
    "y_train = data_jan_filtered[target].values\n",
    "\n",
    "lr = LinearRegression()\n",
    "lr.fit(X_train, y_train)\n",
    "\n",
    "y_pred = lr.predict(X_train)\n",
    "\n",
    "mean_squared_error(y_train, y_pred, squared=False)"
   ]
  },
  {
   "cell_type": "code",
   "execution_count": 27,
   "id": "e21e24d2-cb18-4c2a-a7de-fe7f1ca054c7",
   "metadata": {},
   "outputs": [
    {
     "name": "stderr",
     "output_type": "stream",
     "text": [
      "/home/ubuntu/anaconda3/lib/python3.9/site-packages/seaborn/distributions.py:2619: FutureWarning: `distplot` is a deprecated function and will be removed in a future version. Please adapt your code to use either `displot` (a figure-level function with similar flexibility) or `histplot` (an axes-level function for histograms).\n",
      "  warnings.warn(msg, FutureWarning)\n",
      "/home/ubuntu/anaconda3/lib/python3.9/site-packages/seaborn/distributions.py:2619: FutureWarning: `distplot` is a deprecated function and will be removed in a future version. Please adapt your code to use either `displot` (a figure-level function with similar flexibility) or `histplot` (an axes-level function for histograms).\n",
      "  warnings.warn(msg, FutureWarning)\n"
     ]
    },
    {
     "data": {
      "text/plain": [
       "<matplotlib.legend.Legend at 0x7f205a8b8af0>"
      ]
     },
     "execution_count": 27,
     "metadata": {},
     "output_type": "execute_result"
    },
    {
     "data": {
      "image/png": "[encoded data removed]",
      "text/plain": [
       "<Figure size 432x288 with 1 Axes>"
      ]
     },
     "metadata": {
      "needs_background": "light"
     },
     "output_type": "display_data"
    }
   ],
   "source": [
    "sns.distplot(y_pred, label='prediction')\n",
    "sns.distplot(y_train, label='actual')\n",
    "\n",
    "plt.legend()"
   ]
  },
  {
   "cell_type": "markdown",
   "id": "2c037fc5-de20-4387-8242-77d08b284458",
   "metadata": {},
   "source": [
    "Q6. Evaluating the model\n",
    "\n",
    "Now let's apply this model to the validation dataset (Feb 2021).\n",
    "\n",
    "What's the RMSE on validation?\n",
    "\n",
    "    6.01\n",
    "    11.01\n",
    "    16.01\n",
    "    21.01\n"
   ]
  },
  {
   "cell_type": "code",
   "execution_count": 33,
   "id": "ff41415e-cef2-464d-9402-ca7c3a8805e2",
   "metadata": {},
   "outputs": [],
   "source": [
    "valid_data = pd.read_parquet('data/fhv_tripdata_2021-02.parquet')"
   ]
  },
  {
   "cell_type": "code",
   "execution_count": 34,
   "id": "c11bd486-6342-47db-9060-fec362b1cf7f",
   "metadata": {},
   "outputs": [
    {
     "name": "stderr",
     "output_type": "stream",
     "text": [
      "/tmp/ipykernel_132/3425156353.py:7: SettingWithCopyWarning: \n",
      "A value is trying to be set on a copy of a slice from a DataFrame.\n",
      "Try using .loc[row_indexer,col_indexer] = value instead\n",
      "\n",
      "See the caveats in the documentation: https://pandas.pydata.org/pandas-docs/stable/user_guide/indexing.html#returning-a-view-versus-a-copy\n",
      "  df_filtered[['PUlocationID','DOlocationID']] = df_filtered[['PUlocationID','DOlocationID']].fillna(-1)\n"
     ]
    }
   ],
   "source": [
    "valid_filtered,X_valid = preprocess_df(valid_data, dv)"
   ]
  },
  {
   "cell_type": "code",
   "execution_count": 36,
   "id": "894b24d0-9a5e-4a0a-a36a-a2561db71a15",
   "metadata": {},
   "outputs": [
    {
     "data": {
      "text/plain": [
       "11.85822362355935"
      ]
     },
     "execution_count": 36,
     "metadata": {},
     "output_type": "execute_result"
    }
   ],
   "source": [
    "y_valid = valid_filtered[target].values\n",
    "\n",
    "pred = lr.predict(X_valid)\n",
    "\n",
    "mean_squared_error(y_valid, pred, squared=False)"
   ]
  },
  {
   "cell_type": "code",
   "execution_count": null,
   "id": "cc41e1af-ae4c-4aa3-8899-77f04be746da",
   "metadata": {},
   "outputs": [],
   "source": []
  }
 ],
 "metadata": {
  "kernelspec": {
   "display_name": "Python 3 (ipykernel)",
   "language": "python",
   "name": "python3"
  },
  "language_info": {
   "codemirror_mode": {
    "name": "ipython",
    "version": 3
   },
   "file_extension": ".py",
   "mimetype": "text/x-python",
   "name": "python",
   "nbconvert_exporter": "python",
   "pygments_lexer": "ipython3",
   "version": "3.9.12"
  }
 },
 "nbformat": 4,
 "nbformat_minor": 5
}
